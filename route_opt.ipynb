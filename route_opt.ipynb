{
  "nbformat": 4,
  "nbformat_minor": 0,
  "metadata": {
    "colab": {
      "name": "route_opt.ipynb",
      "provenance": [],
      "collapsed_sections": [],
      "authorship_tag": "ABX9TyPwMvafr61G/Td6kIeOD5vw",
      "include_colab_link": true
    },
    "kernelspec": {
      "name": "python3",
      "display_name": "Python 3"
    },
    "language_info": {
      "name": "python"
    }
  },
  "cells": [
    {
      "cell_type": "markdown",
      "metadata": {
        "id": "view-in-github",
        "colab_type": "text"
      },
      "source": [
        "<a href=\"https://colab.research.google.com/github/rishabh1125/route_optimization/blob/main/route_opt.ipynb\" target=\"_parent\"><img src=\"https://colab.research.google.com/assets/colab-badge.svg\" alt=\"Open In Colab\"/></a>"
      ]
    },
    {
      "cell_type": "code",
      "metadata": {
        "colab": {
          "base_uri": "https://localhost:8080/"
        },
        "id": "8_r8O8cP6LeK",
        "outputId": "dccd07ad-f530-434c-c1dd-09cb629fcfe6"
      },
      "source": [
        "!pip install mpu # to calculate distance between latitudes and longitudes"
      ],
      "execution_count": null,
      "outputs": [
        {
          "output_type": "stream",
          "text": [
            "Requirement already satisfied: mpu in /usr/local/lib/python3.7/dist-packages (0.23.1)\n"
          ],
          "name": "stdout"
        }
      ]
    },
    {
      "cell_type": "code",
      "metadata": {
        "id": "fr5K9Sxa6jjY"
      },
      "source": [
        "import pandas as pd\n",
        "import networkx as nx\n",
        "import matplotlib.pyplot as plt\n",
        "import mpu"
      ],
      "execution_count": null,
      "outputs": []
    },
    {
      "cell_type": "code",
      "metadata": {
        "colab": {
          "base_uri": "https://localhost:8080/",
          "height": 195
        },
        "id": "9Ds6IbpQ_2qD",
        "outputId": "ff3c7c32-656c-482f-9954-f224b74a368a"
      },
      "source": [
        "segments = pd.read_csv('pgh_segments.csv')\n",
        "segments.head()"
      ],
      "execution_count": null,
      "outputs": [
        {
          "output_type": "execute_result",
          "data": {
            "text/html": [
              "<div>\n",
              "<style scoped>\n",
              "    .dataframe tbody tr th:only-of-type {\n",
              "        vertical-align: middle;\n",
              "    }\n",
              "\n",
              "    .dataframe tbody tr th {\n",
              "        vertical-align: top;\n",
              "    }\n",
              "\n",
              "    .dataframe thead th {\n",
              "        text-align: right;\n",
              "    }\n",
              "</style>\n",
              "<table border=\"1\" class=\"dataframe\">\n",
              "  <thead>\n",
              "    <tr style=\"text-align: right;\">\n",
              "      <th></th>\n",
              "      <th>from.x</th>\n",
              "      <th>from.y</th>\n",
              "      <th>to.x</th>\n",
              "      <th>to.y</th>\n",
              "    </tr>\n",
              "  </thead>\n",
              "  <tbody>\n",
              "    <tr>\n",
              "      <th>0</th>\n",
              "      <td>-79.866635</td>\n",
              "      <td>40.452687</td>\n",
              "      <td>-79.866439</td>\n",
              "      <td>40.452785</td>\n",
              "    </tr>\n",
              "    <tr>\n",
              "      <th>1</th>\n",
              "      <td>-79.867666</td>\n",
              "      <td>40.452143</td>\n",
              "      <td>-79.866635</td>\n",
              "      <td>40.452687</td>\n",
              "    </tr>\n",
              "    <tr>\n",
              "      <th>2</th>\n",
              "      <td>-79.867638</td>\n",
              "      <td>40.451004</td>\n",
              "      <td>-79.866897</td>\n",
              "      <td>40.450547</td>\n",
              "    </tr>\n",
              "    <tr>\n",
              "      <th>3</th>\n",
              "      <td>-79.867328</td>\n",
              "      <td>40.450173</td>\n",
              "      <td>-79.866971</td>\n",
              "      <td>40.450184</td>\n",
              "    </tr>\n",
              "    <tr>\n",
              "      <th>4</th>\n",
              "      <td>-79.867624</td>\n",
              "      <td>40.449684</td>\n",
              "      <td>-79.867066</td>\n",
              "      <td>40.449859</td>\n",
              "    </tr>\n",
              "  </tbody>\n",
              "</table>\n",
              "</div>"
            ],
            "text/plain": [
              "      from.x     from.y       to.x       to.y\n",
              "0 -79.866635  40.452687 -79.866439  40.452785\n",
              "1 -79.867666  40.452143 -79.866635  40.452687\n",
              "2 -79.867638  40.451004 -79.866897  40.450547\n",
              "3 -79.867328  40.450173 -79.866971  40.450184\n",
              "4 -79.867624  40.449684 -79.867066  40.449859"
            ]
          },
          "metadata": {
            "tags": []
          },
          "execution_count": 3
        }
      ]
    },
    {
      "cell_type": "code",
      "metadata": {
        "id": "tUdWrYayQhR0"
      },
      "source": [
        "rows = segments.shape[0]"
      ],
      "execution_count": null,
      "outputs": []
    },
    {
      "cell_type": "code",
      "metadata": {
        "id": "DFyzAvxrA9pH",
        "colab": {
          "base_uri": "https://localhost:8080/"
        },
        "outputId": "b1b903c5-7411-4ac6-db1e-8900d3bfb0f6"
      },
      "source": [
        "#add edges \n",
        "edges = []\n",
        "for i in range(rows):\n",
        "  edges.append(((segments['from.x'][i],segments['from.y'][i]),(segments['to.x'][i],segments['to.y'][i])))\n",
        "len(edges)"
      ],
      "execution_count": null,
      "outputs": [
        {
          "output_type": "execute_result",
          "data": {
            "text/plain": [
              "22581"
            ]
          },
          "metadata": {
            "tags": []
          },
          "execution_count": 5
        }
      ]
    },
    {
      "cell_type": "code",
      "metadata": {
        "id": "ojp042ScCKry"
      },
      "source": [
        "# implement the graph\n",
        "G=nx.Graph()\n",
        "G.add_edges_from(edges)"
      ],
      "execution_count": null,
      "outputs": []
    },
    {
      "cell_type": "code",
      "metadata": {
        "colab": {
          "base_uri": "https://localhost:8080/"
        },
        "id": "sJDUVVbGYrzK",
        "outputId": "7d2540e3-7d5a-4059-d17c-a7ea0b591cbd"
      },
      "source": [
        "nodes = list(G)\n",
        "G.degree[nodes[0]]"
      ],
      "execution_count": null,
      "outputs": [
        {
          "output_type": "execute_result",
          "data": {
            "text/plain": [
              "3"
            ]
          },
          "metadata": {
            "tags": []
          },
          "execution_count": 7
        }
      ]
    },
    {
      "cell_type": "markdown",
      "metadata": {
        "id": "Bgo0xJZrhij5"
      },
      "source": [
        "Building model to predict speed"
      ]
    },
    {
      "cell_type": "code",
      "metadata": {
        "colab": {
          "base_uri": "https://localhost:8080/",
          "height": 195
        },
        "id": "R9j84Ri_hgSP",
        "outputId": "7f7f04c9-37ad-40e0-d171-17dbe5b92741"
      },
      "source": [
        "df = pd.read_csv('pgh_train.csv')\n",
        "df.head()"
      ],
      "execution_count": null,
      "outputs": [
        {
          "output_type": "execute_result",
          "data": {
            "text/html": [
              "<div>\n",
              "<style scoped>\n",
              "    .dataframe tbody tr th:only-of-type {\n",
              "        vertical-align: middle;\n",
              "    }\n",
              "\n",
              "    .dataframe tbody tr th {\n",
              "        vertical-align: top;\n",
              "    }\n",
              "\n",
              "    .dataframe thead th {\n",
              "        text-align: right;\n",
              "    }\n",
              "</style>\n",
              "<table border=\"1\" class=\"dataframe\">\n",
              "  <thead>\n",
              "    <tr style=\"text-align: right;\">\n",
              "      <th></th>\n",
              "      <th>from.x</th>\n",
              "      <th>from.y</th>\n",
              "      <th>to.x</th>\n",
              "      <th>to.y</th>\n",
              "      <th>speed</th>\n",
              "      <th>time</th>\n",
              "      <th>is.weekday</th>\n",
              "    </tr>\n",
              "  </thead>\n",
              "  <tbody>\n",
              "    <tr>\n",
              "      <th>0</th>\n",
              "      <td>-80.010193</td>\n",
              "      <td>40.439438</td>\n",
              "      <td>-80.009608</td>\n",
              "      <td>40.439757</td>\n",
              "      <td>27.603437</td>\n",
              "      <td>8</td>\n",
              "      <td>1</td>\n",
              "    </tr>\n",
              "    <tr>\n",
              "      <th>1</th>\n",
              "      <td>-79.975452</td>\n",
              "      <td>40.435881</td>\n",
              "      <td>-79.966978</td>\n",
              "      <td>40.435817</td>\n",
              "      <td>53.779673</td>\n",
              "      <td>8</td>\n",
              "      <td>1</td>\n",
              "    </tr>\n",
              "    <tr>\n",
              "      <th>2</th>\n",
              "      <td>-79.926506</td>\n",
              "      <td>40.427954</td>\n",
              "      <td>-79.911553</td>\n",
              "      <td>40.425766</td>\n",
              "      <td>39.520281</td>\n",
              "      <td>8</td>\n",
              "      <td>1</td>\n",
              "    </tr>\n",
              "    <tr>\n",
              "      <th>3</th>\n",
              "      <td>-80.010193</td>\n",
              "      <td>40.439438</td>\n",
              "      <td>-80.000976</td>\n",
              "      <td>40.436302</td>\n",
              "      <td>24.878792</td>\n",
              "      <td>8</td>\n",
              "      <td>1</td>\n",
              "    </tr>\n",
              "    <tr>\n",
              "      <th>4</th>\n",
              "      <td>-80.007891</td>\n",
              "      <td>40.448433</td>\n",
              "      <td>-80.004527</td>\n",
              "      <td>40.449137</td>\n",
              "      <td>41.973019</td>\n",
              "      <td>8</td>\n",
              "      <td>1</td>\n",
              "    </tr>\n",
              "  </tbody>\n",
              "</table>\n",
              "</div>"
            ],
            "text/plain": [
              "      from.x     from.y       to.x       to.y      speed  time  is.weekday\n",
              "0 -80.010193  40.439438 -80.009608  40.439757  27.603437     8           1\n",
              "1 -79.975452  40.435881 -79.966978  40.435817  53.779673     8           1\n",
              "2 -79.926506  40.427954 -79.911553  40.425766  39.520281     8           1\n",
              "3 -80.010193  40.439438 -80.000976  40.436302  24.878792     8           1\n",
              "4 -80.007891  40.448433 -80.004527  40.449137  41.973019     8           1"
            ]
          },
          "metadata": {
            "tags": []
          },
          "execution_count": 8
        }
      ]
    },
    {
      "cell_type": "code",
      "metadata": {
        "colab": {
          "base_uri": "https://localhost:8080/"
        },
        "id": "-wW1oEKhiAOE",
        "outputId": "ecd12b5a-b7ca-4728-83fc-b0890ba97aff"
      },
      "source": [
        "list(df.columns)"
      ],
      "execution_count": null,
      "outputs": [
        {
          "output_type": "execute_result",
          "data": {
            "text/plain": [
              "['from.x', 'from.y', 'to.x', 'to.y', 'speed', 'time', 'is.weekday']"
            ]
          },
          "metadata": {
            "tags": []
          },
          "execution_count": 9
        }
      ]
    },
    {
      "cell_type": "code",
      "metadata": {
        "id": "XfwkytMlrQVA"
      },
      "source": [
        "import tensorflow as tf "
      ],
      "execution_count": null,
      "outputs": []
    },
    {
      "cell_type": "code",
      "metadata": {
        "id": "SwK6zF7_tBy7"
      },
      "source": [
        "train = df.drop('speed',axis=1)\n",
        "target = df['speed']"
      ],
      "execution_count": null,
      "outputs": []
    },
    {
      "cell_type": "code",
      "metadata": {
        "id": "UeJXglFst8SR"
      },
      "source": [
        "model = tf.keras.Sequential([\n",
        "  tf.keras.layers.Dense(units=4),\n",
        "  tf.keras.layers.Dense(units=4),\n",
        "  tf.keras.layers.Dense(units=1)\n",
        "])"
      ],
      "execution_count": null,
      "outputs": []
    },
    {
      "cell_type": "code",
      "metadata": {
        "id": "XrDmauyixknh"
      },
      "source": [
        "model.compile(loss='mean_squared_error',\n",
        "              optimizer=tf.keras.optimizers.Adam(0.1))"
      ],
      "execution_count": null,
      "outputs": []
    },
    {
      "cell_type": "code",
      "metadata": {
        "id": "4ghqzfJMxsV0"
      },
      "source": [
        "history = model.fit(train,target, epochs=100, verbose=False)"
      ],
      "execution_count": null,
      "outputs": []
    },
    {
      "cell_type": "code",
      "metadata": {
        "colab": {
          "base_uri": "https://localhost:8080/",
          "height": 296
        },
        "id": "3SFZ3ds9xzeB",
        "outputId": "96845347-ca9b-450a-caf2-e30ac2621083"
      },
      "source": [
        "import matplotlib.pyplot as plt\n",
        "plt.xlabel('Epoch Number')\n",
        "plt.ylabel(\"Loss Magnitude\")\n",
        "plt.plot(history.history['loss'])"
      ],
      "execution_count": null,
      "outputs": [
        {
          "output_type": "execute_result",
          "data": {
            "text/plain": [
              "[<matplotlib.lines.Line2D at 0x7f3850c87190>]"
            ]
          },
          "metadata": {
            "tags": []
          },
          "execution_count": 15
        },
        {
          "output_type": "display_data",
          "data": {
            "image/png": "[encoded data removed]",
            "text/plain": [
              "<Figure size 432x288 with 1 Axes>"
            ]
          },
          "metadata": {
            "tags": [],
            "needs_background": "light"
          }
        }
      ]
    },
    {
      "cell_type": "code",
      "metadata": {
        "colab": {
          "base_uri": "https://localhost:8080/",
          "height": 77
        },
        "id": "_FoDu6qp1-TA",
        "outputId": "24d638a9-5732-407c-f117-a845a5702c4f"
      },
      "source": [
        "train.iloc[[4]]"
      ],
      "execution_count": null,
      "outputs": [
        {
          "output_type": "execute_result",
          "data": {
            "text/html": [
              "<div>\n",
              "<style scoped>\n",
              "    .dataframe tbody tr th:only-of-type {\n",
              "        vertical-align: middle;\n",
              "    }\n",
              "\n",
              "    .dataframe tbody tr th {\n",
              "        vertical-align: top;\n",
              "    }\n",
              "\n",
              "    .dataframe thead th {\n",
              "        text-align: right;\n",
              "    }\n",
              "</style>\n",
              "<table border=\"1\" class=\"dataframe\">\n",
              "  <thead>\n",
              "    <tr style=\"text-align: right;\">\n",
              "      <th></th>\n",
              "      <th>from.x</th>\n",
              "      <th>from.y</th>\n",
              "      <th>to.x</th>\n",
              "      <th>to.y</th>\n",
              "      <th>time</th>\n",
              "      <th>is.weekday</th>\n",
              "    </tr>\n",
              "  </thead>\n",
              "  <tbody>\n",
              "    <tr>\n",
              "      <th>4</th>\n",
              "      <td>-80.007891</td>\n",
              "      <td>40.448433</td>\n",
              "      <td>-80.004527</td>\n",
              "      <td>40.449137</td>\n",
              "      <td>8</td>\n",
              "      <td>1</td>\n",
              "    </tr>\n",
              "  </tbody>\n",
              "</table>\n",
              "</div>"
            ],
            "text/plain": [
              "      from.x     from.y       to.x       to.y  time  is.weekday\n",
              "4 -80.007891  40.448433 -80.004527  40.449137     8           1"
            ]
          },
          "metadata": {
            "tags": []
          },
          "execution_count": 16
        }
      ]
    },
    {
      "cell_type": "code",
      "metadata": {
        "colab": {
          "base_uri": "https://localhost:8080/"
        },
        "id": "tZCejf7Hx6UH",
        "outputId": "d8e67578-6441-4a7a-bcfd-3906779cb68f"
      },
      "source": [
        "print(model.predict([[-79.926506\t,40.427954,\t-79.911553,\t40.425766,14,1]]))"
      ],
      "execution_count": null,
      "outputs": [
        {
          "output_type": "stream",
          "text": [
            "[[29.56261]]\n"
          ],
          "name": "stdout"
        }
      ]
    },
    {
      "cell_type": "markdown",
      "metadata": {
        "id": "xvkMY_cYhX0j"
      },
      "source": [
        "Calculate Fastest route using Dijkshtra's algorithm"
      ]
    },
    {
      "cell_type": "code",
      "metadata": {
        "colab": {
          "base_uri": "https://localhost:8080/"
        },
        "id": "pu45Yh7SH6ZF",
        "outputId": "5fcafe53-03d3-451c-a54e-fb0e45109322"
      },
      "source": [
        "from datetime import datetime\n",
        "hour = datetime.now().hour\n",
        "weekday =  datetime(2021, 5, 8).weekday()\n",
        "weekend =0\n",
        "if weekday>4: weekend =1\n",
        "print(weekend) "
      ],
      "execution_count": null,
      "outputs": [
        {
          "output_type": "stream",
          "text": [
            "1\n"
          ],
          "name": "stdout"
        }
      ]
    },
    {
      "cell_type": "code",
      "metadata": {
        "id": "Po4w5VU4c5F_"
      },
      "source": [
        "def dist(n1,n2,E):\n",
        "  return mpu.haversine_distance(n1,n2)/model.predict([[n1[0],n1[1],n2[0],n2[1],hour,weekend]])*60\n",
        "time, path = nx.bidirectional_dijkstra(G,edges[23][0],edges[35][1], dist)\n"
      ],
      "execution_count": null,
      "outputs": []
    },
    {
      "cell_type": "code",
      "metadata": {
        "colab": {
          "base_uri": "https://localhost:8080/"
        },
        "id": "tN28s5N28dlC",
        "outputId": "a25a60b3-9fa5-4fe4-de5e-cd53295850c6"
      },
      "source": [
        "print(\"ETA: {} min\".format(time[0][0]*1.5))\n",
        "print(path)"
      ],
      "execution_count": null,
      "outputs": [
        {
          "output_type": "stream",
          "text": [
            "ETA: 5.450269460678101 min\n",
            "[(-79.86927042834371, 40.4508391470073), (-79.8694156700555, 40.4507143822491), (-79.8697824060545, 40.450389403239704), (-79.87015846856991, 40.450046833144796), (-79.870574992943, 40.449662333585295), (-79.87092367428329, 40.44935803656779), (-79.87298832775559, 40.4510841060646), (-79.8736253374338, 40.45249437772721), (-79.8740922715889, 40.4499870466816), (-79.8748643367008, 40.450877762828895), (-79.8745356878646, 40.4515696504904), (-79.87621318387029, 40.4515933757632), (-79.8765837840395, 40.451292072478104), (-79.87713742944409, 40.4512959565765), (-79.8771418187466, 40.451862537514295), (-79.8764214006341, 40.4524546402556), (-79.87600079320191, 40.4527661296776), (-79.8759332750866, 40.455014454011796), (-79.8758986801527, 40.4560693858314), (-79.8758838576191, 40.4565399604965), (-79.875868642735, 40.457112135244), (-79.8757773452731, 40.457594155285), (-79.8758783636986, 40.4581475464343), (-79.8752086310162, 40.4586537594135), (-79.87499837073979, 40.4588346807303), (-79.87484797267429, 40.4589648772817), (-79.87448639547891, 40.459279090824396), (-79.8736526884658, 40.4600076563921), (-79.8734657692475, 40.4601569973956), (-79.87328323016949, 40.4603095826406), (-79.8731404319038, 40.4604267560402), (-79.8702556169569, 40.461170011447)]\n"
          ],
          "name": "stdout"
        }
      ]
    },
    {
      "cell_type": "markdown",
      "metadata": {
        "id": "DkioN5C6d49F"
      },
      "source": [
        "Visualize the route"
      ]
    },
    {
      "cell_type": "code",
      "metadata": {
        "id": "MpMXR6g530H8"
      },
      "source": [
        "import numpy as np\n",
        "import pylab as pl\n",
        "from matplotlib import collections  as mc\n",
        "\n",
        "blue = (0, 0, 1, 1)\n",
        "red = (1, 0, 0, 1)\n",
        "gray = (0,0,0,0.3)\n",
        "light = (0,0,0,0.1)"
      ],
      "execution_count": null,
      "outputs": []
    },
    {
      "cell_type": "code",
      "metadata": {
        "id": "cjKJmiAxeNs2"
      },
      "source": [
        "roads = []\n",
        "c = []\n",
        "min_X,max_X,min_Y,max_Y = -0,-100,100,0\n",
        "for i in range(len(path)-1):\n",
        "  roads.append((path[i],path[i+1]))\n",
        "  min_X = min(path[i][0],min_X)\n",
        "  min_Y = min(path[i][1],min_Y)\n",
        "  max_X = max(path[i][0],max_X)\n",
        "  max_Y = max(path[i][1],max_Y)\n",
        "  c.append(red)\n",
        "\n",
        "for edge in edges:\n",
        "  if (min_X<=edge[0][0]<=max_X and min_Y<=edge[0][1]<=max_Y) or (min_X<=edge[1][0]<=max_X and  min_Y<=edge[0][1]<=max_Y):  \n",
        "    if edge not in roads:\n",
        "      roads.append(edge)\n",
        "      c.append(gray)\n"
      ],
      "execution_count": null,
      "outputs": []
    },
    {
      "cell_type": "code",
      "metadata": {
        "colab": {
          "base_uri": "https://localhost:8080/",
          "height": 265
        },
        "id": "xmQc7vOHeNHq",
        "outputId": "83b7b6e8-4e62-48d0-de6a-953309baf30b"
      },
      "source": [
        "lc = mc.LineCollection(roads, colors=c, linewidths=2)\n",
        "fig, ax = pl.subplots()\n",
        "ax.add_collection(lc)\n",
        "ax.scatter([path[0][0],path[-1][0]],[path[0][1],path[-1][1]],c=[(0,1,0,1),(0,0,1,1)])\n",
        "ax.autoscale()\n",
        "#ax.margins(0.1)"
      ],
      "execution_count": null,
      "outputs": [
        {
          "output_type": "display_data",
          "data": {
            "image/png": "[encoded data removed]",
            "text/plain": [
              "<Figure size 432x288 with 1 Axes>"
            ]
          },
          "metadata": {
            "tags": [],
            "needs_background": "light"
          }
        }
      ]
    }
  ]
}